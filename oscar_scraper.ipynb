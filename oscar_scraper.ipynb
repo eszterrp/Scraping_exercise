{
 "cells": [
  {
   "cell_type": "markdown",
   "id": "59354813",
   "metadata": {},
   "source": [
    "## Scrape all Oscar acceptance speeches"
   ]
  },
  {
   "cell_type": "code",
   "execution_count": 8,
   "id": "f1171424",
   "metadata": {},
   "outputs": [],
   "source": [
    "# Import packages\n",
    "\n",
    "from selenium.webdriver.common.keys import Keys\n",
    "# auxiliary functions modified by Luis.\n",
    "import sys\n",
    "import calendar\n",
    "from selenium.common.exceptions import NoSuchElementException, ElementClickInterceptedException, StaleElementReferenceException\n",
    "import re\n",
    "from selenium.webdriver.support.ui import Select\n",
    "import random\n",
    "import time\n",
    "from selenium import webdriver\n",
    "import os\n",
    "import numpy as np\n",
    "\n",
    "import requests\n",
    "from bs4 import BeautifulSoup\n",
    "\n",
    "\n",
    "from datetime import datetime\n",
    "from tqdm import tqdm\n",
    "\n",
    "from pandas.core.common import flatten\n",
    "import pandas as pd"
   ]
  },
  {
   "cell_type": "code",
   "execution_count": 9,
   "id": "b5b0ee56",
   "metadata": {},
   "outputs": [],
   "source": [
    "# set up webdriver path\n",
    "DRIVER_BIN = '/Users/pazma/Documents/BSE/text_mining/class_4/geckodriver'"
   ]
  },
  {
   "cell_type": "code",
   "execution_count": 10,
   "id": "312a1b94",
   "metadata": {},
   "outputs": [],
   "source": [
    "def check_obscures(browser, xpath, type):\n",
    "    '''\n",
    "    Function that checks whether the object is being \"obscured\" by any element so\n",
    "    that it is not clickable. Important: if True, the object is going to be clicked!\n",
    "    '''\n",
    "    try:\n",
    "        if type == \"xpath\":\n",
    "            browser.find_element_by_xpath(xpath).click()\n",
    "        elif type == \"id\":\n",
    "            browser.find_element_by_id(xpath).click()\n",
    "        elif type == \"css\":\n",
    "            browser.find_element_by_css_selector(xpath).click()\n",
    "        elif type == \"class\":\n",
    "            browser.find_element_by_class_name(xpath).click()\n",
    "        elif type == \"link\":\n",
    "            browser.find_element_by_link_text(xpath).click()\n",
    "    except (ElementClickInterceptedException, NoSuchElementException, StaleElementReferenceException):\n",
    "        return False\n",
    "    return True\n",
    "\n",
    "\n",
    "def check_and_click(browser, xpath, type):\n",
    "    '''\n",
    "    Function that checks whether the object is clickable and, if so, clicks on\n",
    "    it. If not, waits one second and tries again.\n",
    "    '''\n",
    "    ck = False\n",
    "    ss = 0\n",
    "    while ck == False:\n",
    "        ck = check_obscures(browser, xpath, type)\n",
    "        time.sleep(1)\n",
    "        ss += 1\n",
    "        if ss == 15:\n",
    "            # warn_sound()\n",
    "            #return NoSuchElementException\n",
    "            ck = True\n",
    "            # browser.quit()"
   ]
  },
  {
   "cell_type": "code",
   "execution_count": 23,
   "id": "7adc1894",
   "metadata": {},
   "outputs": [],
   "source": [
    "def scrapeOscars(year):\n",
    "        year = str(year)\n",
    "        # Loads up Selenium's WebDriver implementation for Google Chrome\n",
    "        driver = webdriver.Firefox(executable_path = DRIVER_BIN)\n",
    "\n",
    "        try:\n",
    "            # Directs the browser to the Oscars DB Site\n",
    "            url = \"http://aaspeechesdb.oscars.org/\"\n",
    "            driver.get(url)\n",
    "\n",
    "            # Selects the Input Box corresponding to the Awards Year\n",
    "            year_xpath = '//input[@id=\"QI0\"]'\n",
    "            r = driver.find_element_by_xpath(year_xpath)\n",
    "            r.send_keys(year)\n",
    "\n",
    "            # Finds the Search button, and clicks it\n",
    "            #driver.find_element_by_xpath(\"//input[@id='body_SearchButton']\").click()\n",
    "            check_and_click(driver,\"//input[@id='body_SearchButton']\" , \"xpath\")\n",
    "\n",
    "            # Gets all of the links to each speech made at the Oscars that year\n",
    "            speechLinkElements = driver.find_elements_by_xpath(\"//div[@id='main']/div/p\")\n",
    "            print(\"Number of speeches found: \", len(speechLinkElements))\n",
    "\n",
    "            # Scrapes the speech data and metadata for each link\n",
    "            speechResult = []\n",
    "            for i in range(0, len(speechLinkElements)):\n",
    "                # Finds the link to get to speech, and clicks on it\n",
    "                speechLinkElements[i].find_element_by_tag_name(\"a\").click()\n",
    "                # Finds the div containing all relevant text, and scrapes it\n",
    "                yearData = driver.find_element_by_xpath(\"//div[@class='fullModule2 fullContainer']\").text\n",
    "                # Appends the data to the speechResult list\n",
    "                speechResult.append(yearData)\n",
    "                # Makes the driver go back, and repeats for a different link\n",
    "                driver.back()\n",
    "                # Rescrapes all the links (necessary to keep elements not to be 'stale'/'expired')\n",
    "                speechLinkElements = driver.find_elements_by_xpath(\"//div[@id='main']/div/p\")\n",
    "\n",
    "        # except Exception as e:\n",
    "        #     print(\"Exception hit when scraping {}\".format(year), e)\n",
    "        #     pass\n",
    "        #     # driver.close()\n",
    "        #     # sys.exit(1)\n",
    "\n",
    "        driver.close()\n",
    "        return speechResult\n"
   ]
  },
  {
   "cell_type": "code",
   "execution_count": 24,
   "id": "a88bb162",
   "metadata": {},
   "outputs": [
    {
     "name": "stderr",
     "output_type": "stream",
     "text": [
      "  0%|                                                    | 0/83 [00:00<?, ?it/s]/var/folders/_d/v9yy531x3dg4b8kfprprmn280000gn/T/ipykernel_14139/1391933109.py:5: DeprecationWarning: executable_path has been deprecated, please pass in a Service object\n",
      "  driver = webdriver.Firefox(executable_path = DRIVER_BIN)\n",
      "/var/folders/_d/v9yy531x3dg4b8kfprprmn280000gn/T/ipykernel_14139/1391933109.py:14: DeprecationWarning: find_element_by_* commands are deprecated. Please use find_element() instead\n",
      "  r = driver.find_element_by_xpath(year_xpath)\n",
      "/var/folders/_d/v9yy531x3dg4b8kfprprmn280000gn/T/ipykernel_14139/968695101.py:9: DeprecationWarning: find_element_by_* commands are deprecated. Please use find_element() instead\n",
      "  browser.find_element_by_xpath(xpath).click()\n",
      "/var/folders/_d/v9yy531x3dg4b8kfprprmn280000gn/T/ipykernel_14139/1391933109.py:22: DeprecationWarning: find_elements_by_* commands are deprecated. Please use find_elements() instead\n",
      "  speechLinkElements = driver.find_elements_by_xpath(\"//div[@id='main']/div/p\")\n",
      "/var/folders/_d/v9yy531x3dg4b8kfprprmn280000gn/T/ipykernel_14139/1391933109.py:30: DeprecationWarning: find_element_by_* commands are deprecated. Please use find_element() instead\n",
      "  yearData = driver.find_element_by_xpath(\"//div[@class='fullModule2 fullContainer']\").text\n",
      "/var/folders/_d/v9yy531x3dg4b8kfprprmn280000gn/T/ipykernel_14139/1391933109.py:36: DeprecationWarning: find_elements_by_* commands are deprecated. Please use find_elements() instead\n",
      "  speechLinkElements = driver.find_elements_by_xpath(\"//div[@id='main']/div/p\")\n",
      "100%|█████████████████████████████████████████| 83/83 [1:01:49<00:00, 44.69s/it]"
     ]
    },
    {
     "name": "stdout",
     "output_type": "stream",
     "text": [
      "Duration: 1:01:49.589029\n"
     ]
    },
    {
     "name": "stderr",
     "output_type": "stream",
     "text": [
      "\n"
     ]
    }
   ],
   "source": [
    "start_time = datetime.now()\n",
    "\n",
    "results=[]\n",
    "for i in tqdm(range(1939, 2022)): \n",
    "    results.append(scrapeOscars(i))\n",
    "\n",
    "end_time = datetime.now()\n",
    "\n",
    "print('Duration: {}'.format(end_time - start_time))\n",
    "\n",
    "with open('speeches.txt', 'w') as f:\n",
    "    for item in results:\n",
    "        f.write(\"%s\\n\" % item)"
   ]
  },
  {
   "cell_type": "markdown",
   "id": "90152547",
   "metadata": {},
   "source": [
    "****************"
   ]
  },
  {
   "cell_type": "markdown",
   "id": "3d579700",
   "metadata": {},
   "source": [
    "### EXTRA\n",
    "#### Search by different cetegories and scrape the data according to that: \n",
    "    - year\n",
    "    - actor/actress\n",
    "    - film title\n",
    "    - award category  "
   ]
  },
  {
   "cell_type": "code",
   "execution_count": 43,
   "id": "ee9212da",
   "metadata": {},
   "outputs": [
    {
     "name": "stdout",
     "output_type": "stream",
     "text": [
      "What do you want to search for? \n",
      " Choose one from the following and type their number:\n",
      "1.year\n",
      "2.actor/actress\n",
      "3.film title\n",
      "4.award category\n",
      "1\n",
      "Which year?\n",
      "1939\n"
     ]
    },
    {
     "name": "stderr",
     "output_type": "stream",
     "text": [
      "/var/folders/hc/qzy2rzvj5cg38v_607m73p640000gn/T/ipykernel_7419/3261347139.py:15: DeprecationWarning: executable_path has been deprecated, please pass in a Service object\n",
      "  driver = webdriver.Firefox(executable_path = DRIVER_BIN)\n",
      "/var/folders/hc/qzy2rzvj5cg38v_607m73p640000gn/T/ipykernel_7419/3261347139.py:22: DeprecationWarning: find_element_by_* commands are deprecated. Please use find_element() instead\n",
      "  r = driver.find_element_by_xpath(year_xpath)\n",
      "/var/folders/hc/qzy2rzvj5cg38v_607m73p640000gn/T/ipykernel_7419/3261347139.py:42: DeprecationWarning: find_element_by_* commands are deprecated. Please use find_element() instead\n",
      "  driver.find_element_by_xpath(\"//input[@id='body_SearchButton']\").click()\n",
      "/var/folders/hc/qzy2rzvj5cg38v_607m73p640000gn/T/ipykernel_7419/3261347139.py:45: DeprecationWarning: find_elements_by_* commands are deprecated. Please use find_elements() instead\n",
      "  speechLinkElements = driver.find_elements_by_xpath(\"//div[@id='main']/div/p\")\n"
     ]
    },
    {
     "name": "stdout",
     "output_type": "stream",
     "text": [
      "Number of speeches found:  2\n"
     ]
    },
    {
     "name": "stderr",
     "output_type": "stream",
     "text": [
      "/var/folders/hc/qzy2rzvj5cg38v_607m73p640000gn/T/ipykernel_7419/3261347139.py:55: DeprecationWarning: find_element_by_* commands are deprecated. Please use find_element() instead\n",
      "  speechData = driver.find_element_by_xpath(\"//div[@class='fullModule2 fullContainer']\").text\n",
      "/var/folders/hc/qzy2rzvj5cg38v_607m73p640000gn/T/ipykernel_7419/3261347139.py:63: DeprecationWarning: find_elements_by_* commands are deprecated. Please use find_elements() instead\n",
      "  speechLinkElements = driver.find_elements_by_xpath(\"//div[@id='main']/div/p\")\n"
     ]
    },
    {
     "name": "stdout",
     "output_type": "stream",
     "text": [
      "Duration: 0:00:30.475350\n"
     ]
    }
   ],
   "source": [
    "text=input(\"What do you want to search for? \\n Choose one from the following and type their number:\\n1.year\\n2.actor/actress\\n3.film title\\n4.award category\\n\")\n",
    "\n",
    "if text=='1':\n",
    "    searchWord=input(\"Which year?\\n\")\n",
    "elif text=='2':\n",
    "    searchWord=input(\"Whose speeches?\\n\")\n",
    "elif text=='3':\n",
    "    searchWord=input(\"Which film?\\n\")\n",
    "elif text=='4':\n",
    "        searchWord=input(\"Which award category?\\n\")    \n",
    "\n",
    "start_time = datetime.now()\n",
    "\n",
    "\n",
    "driver = webdriver.Firefox(executable_path = DRIVER_BIN)\n",
    "driver.get('http://aaspeechesdb.oscars.org/')\n",
    "\n",
    "if text=='1': \n",
    "\n",
    "# Selects the Input Box corresponding to the input text\n",
    "    year_xpath = '//input[@id=\"QI0\"]'\n",
    "    r = driver.find_element_by_xpath(year_xpath)\n",
    "    r.send_keys(searchWord)  # types * to get all the speeches from the very beginning\n",
    "\n",
    "elif text=='2':\n",
    "    actor_xpath = '//input[@id=\"QI1\"]'\n",
    "    r = driver.find_element_by_xpath(actor_xpath)\n",
    "    r.send_keys(searchWord)\n",
    "\n",
    "elif text=='3':\n",
    "    title_xpath = '//input[@id=\"QI2\"]'\n",
    "    r = driver.find_element_by_xpath(title_xpath)\n",
    "    r.send_keys(searchWord)\n",
    "\n",
    "elif text=='4':\n",
    "    award_xpath = '//input[@id=\"QI3\"]'\n",
    "    r = driver.find_element_by_xpath(award_xpath)\n",
    "    r.send_keys(searchWord)\n",
    "\n",
    "\n",
    "# Finds the Search button, and clicks it\n",
    "driver.find_element_by_xpath(\"//input[@id='body_SearchButton']\").click()\n",
    "\n",
    "# Gets all of the links to each speech made at the Oscars \n",
    "speechLinkElements = driver.find_elements_by_xpath(\"//div[@id='main']/div/p\")\n",
    "print(\"Number of speeches found: \", len(speechLinkElements))\n",
    "\n",
    "# Scrapes the speech data and metadata for each link\n",
    "speechResult = []\n",
    "for i in range(len(speechLinkElements)):\n",
    "    # Finds the link to get to speech, and clicks on it\n",
    "    speechLinkElements[i].find_element_by_tag_name(\"a\").click()\n",
    "    time.sleep(5)\n",
    "    # Finds the div containing all relevant text, and scrapes it\n",
    "    speechData = driver.find_element_by_xpath(\"//div[@class='fullModule2 fullContainer']\").text\n",
    "    # Appends the data to the speechResult list\n",
    "    speechResult.append(speechData)\n",
    "    # Makes the driver go back, and repeats for a different link\n",
    "    # one step back in browser history\n",
    "    time.sleep(5)\n",
    "    driver.back()\n",
    "    # Rescrapes all the links (necessary to keep elements not 'stale')\n",
    "    speechLinkElements = driver.find_elements_by_xpath(\"//div[@id='main']/div/p\")\n",
    "\n",
    "\n",
    "driver.close()\n",
    "\n",
    "end_time = datetime.now()\n",
    "\n",
    "print('Duration: {}'.format(end_time - start_time))\n",
    "\n",
    "# export file into txt\n",
    "with open('speeches_'+searchWord+'.txt', 'w') as f:\n",
    "    for item in speechResult:\n",
    "        f.write(\"%s\\n\" % item)\n"
   ]
  },
  {
   "cell_type": "code",
   "execution_count": 21,
   "id": "c0e327c2",
   "metadata": {},
   "outputs": [
    {
     "name": "stdout",
     "output_type": "stream",
     "text": [
      "2\n"
     ]
    },
    {
     "data": {
      "text/plain": [
       "['Year: 1939 (12th) Academy Awards\\nCategory: Actress\\nFilm Title: Gone with the Wind\\nWinner: Vivien Leigh\\nPresenter: Spencer Tracy\\nDate & Venue: February 29, 1940; Ambassador Hotel, Cocoanut Grove (banquet)\\n\\nVIVIEN LEIGH:\\nLadies and gentlemen, please forgive me if my words are inadequate in thanking you for your very great kindness. If I were to mention all those who have shown me such wonderful generosity through \"Gone with the Wind\" I should have to entertain you with an oration as long as \"Gone with the Wind\" itself. So if I may, I should like to devote my thanks on this occasion to that composite figure of energy, courage, and very great kindness, in whom all points of \"Gone with the Wind\" meet -- Mr. David Selznick.\\n© Academy of Motion Picture Arts and Sciences\\n[Note: All winners are present except where noted; NOT all winners may have spoken.]',\n",
       " 'Watch the video\\nYear: 1939 (12th) Academy Awards\\nCategory: Actress in a Supporting Role\\nFilm Title: Gone with the Wind\\nWinner: Hattie McDaniel\\nPresenter: Fay Bainter\\nDate & Venue: February 29, 1940; Ambassador Hotel, Cocoanut Grove (banquet)\\n\\nHATTIE McDANIEL:\\nAcademy of Motion Picture Arts and Science[s], fellow members of the motion picture industry and honored guests. This is one of the happiest moments of my life, and I want to thank each one of you who had a part in selecting me for one of the awards for your kindness. It has made me feel very, very humble and I shall always hold it as a beacon for anything I may be able to do in the future. I sincerely hope I shall always be a credit to my race and to the motion picture industry. My heart is too full to tell you just how I feel. And may I say thank you and God bless you.\\n© Academy of Motion Picture Arts and Sciences\\n[Note: All winners are present except where noted; NOT all winners may have spoken.]']"
      ]
     },
     "execution_count": 21,
     "metadata": {},
     "output_type": "execute_result"
    }
   ],
   "source": [
    "print(len(speechResult))\n",
    "speechResult"
   ]
  },
  {
   "cell_type": "markdown",
   "id": "5e277801",
   "metadata": {},
   "source": [
    "**********************"
   ]
  },
  {
   "cell_type": "markdown",
   "id": "15a406be",
   "metadata": {},
   "source": [
    "### Minor parsing attempt (not fully  finished)"
   ]
  },
  {
   "cell_type": "code",
   "execution_count": 23,
   "id": "2dd728ac",
   "metadata": {},
   "outputs": [],
   "source": [
    "import re\n",
    "\n",
    "with open('/Users/pazma/Downloads/speeches.txt') as f:\n",
    "    content = [line.rstrip('\\n') for line in f]"
   ]
  },
  {
   "cell_type": "code",
   "execution_count": 24,
   "id": "73273296",
   "metadata": {},
   "outputs": [],
   "source": [
    "speeches=[]\n",
    "for i in range(len(content)):\n",
    "    speeches.append(content[i].split(\"\\\\n\"))\n",
    "\n",
    "r=list(flatten(speeches))"
   ]
  },
  {
   "cell_type": "code",
   "execution_count": 25,
   "id": "8bb0f1aa",
   "metadata": {},
   "outputs": [
    {
     "data": {
      "text/plain": [
       "[\"['Year: 1939 (12th) Academy Awards\",\n",
       " 'Category: Actress',\n",
       " 'Film Title: Gone with the Wind',\n",
       " 'Winner: Vivien Leigh',\n",
       " 'Presenter: Spencer Tracy',\n",
       " 'Date & Venue: February 29, 1940; Ambassador Hotel, Cocoanut Grove (banquet)',\n",
       " '',\n",
       " 'VIVIEN LEIGH:',\n",
       " 'Ladies and gentlemen, please forgive me if my words are inadequate in thanking you for your very great kindness. If I were to mention all those who have shown me such wonderful generosity through \"Gone with the Wind\" I should have to entertain you with an oration as long as \"Gone with the Wind\" itself. So if I may, I should like to devote my thanks on this occasion to that composite figure of energy, courage, and very great kindness, in whom all points of \"Gone with the Wind\" meet -- Mr. David Selznick.',\n",
       " '© Academy of Motion Picture Arts and Sciences',\n",
       " \"[Note: All winners are present except where noted; NOT all winners may have spoken.]', 'Watch the video\",\n",
       " 'Year: 1939 (12th) Academy Awards',\n",
       " 'Category: Actress in a Supporting Role',\n",
       " 'Film Title: Gone with the Wind',\n",
       " 'Winner: Hattie McDaniel',\n",
       " 'Presenter: Fay Bainter',\n",
       " 'Date & Venue: February 29, 1940; Ambassador Hotel, Cocoanut Grove (banquet)',\n",
       " '',\n",
       " 'HATTIE McDANIEL:',\n",
       " 'Academy of Motion Picture Arts and Science[s], fellow members of the motion picture industry and honored guests. This is one of the happiest moments of my life, and I want to thank each one of you who had a part in selecting me for one of the awards for your kindness. It has made me feel very, very humble and I shall always hold it as a beacon for anything I may be able to do in the future. I sincerely hope I shall always be a credit to my race and to the motion picture industry. My heart is too full to tell you just how I feel. And may I say thank you and God bless you.',\n",
       " '© Academy of Motion Picture Arts and Sciences',\n",
       " \"[Note: All winners are present except where noted; NOT all winners may have spoken.]']\",\n",
       " '[]',\n",
       " '[\"Year: 1941 (14th) Academy Awards',\n",
       " 'Category: Actor in a Supporting Role',\n",
       " 'Film Title: How Green Was My Valley',\n",
       " 'Winner: Donald Crisp',\n",
       " 'Presenter: James Stewart',\n",
       " 'Date & Venue: February 26, 1942; Biltmore Hotel, Biltmore Bowl (banquet)',\n",
       " '']"
      ]
     },
     "execution_count": 25,
     "metadata": {},
     "output_type": "execute_result"
    }
   ],
   "source": [
    "r[:30]"
   ]
  },
  {
   "cell_type": "code",
   "execution_count": 26,
   "id": "67c5e3cc",
   "metadata": {},
   "outputs": [
    {
     "name": "stdout",
     "output_type": "stream",
     "text": [
      "# dates and venues:  1952\n",
      "# film titles:  1693\n",
      "# categories:  1951\n",
      "# speakers:  2706\n",
      "# years: 1951\n",
      "# winners: 1990\n",
      "# presenters:  1964\n"
     ]
    }
   ],
   "source": [
    "speakers=[]\n",
    "for i in range(len(r)):\n",
    "    if r[i].isupper()==True:\n",
    "        speakers.append(r[i])\n",
    "\n",
    "\n",
    "year=[]\n",
    "for i in range(len(r)): \n",
    "    if re.search(r'(?<=Year: ).*',r[i]) != None:\n",
    "        year.append(r[i])\n",
    "\n",
    "date=[]\n",
    "for i in range(len(r)): \n",
    "    if re.search(r'(?<=Date).*',r[i]) != None:\n",
    "        date.append(r[i])\n",
    "\n",
    "category=[]\n",
    "for i in range(len(r)): \n",
    "    if re.search(r'(?<=Category).*',r[i]) != None:\n",
    "        category.append(r[i])\n",
    "\n",
    "film_title=[]\n",
    "for i in range(len(r)): \n",
    "    if re.search(r'(?<=Film Title).*',r[i]) != None:\n",
    "        film_title.append(r[i])\n",
    "\n",
    "\n",
    "winner=[]\n",
    "for i in range(len(r)): \n",
    "    if re.search(r'(?<=Winner).*',r[i]) != None:\n",
    "        winner.append(r[i])\n",
    "\n",
    "\n",
    "presenter=[]\n",
    "for i in range(len(r)): \n",
    "    if re.search(r'(?<=Presenter).*',r[i]) != None:\n",
    "        presenter.append(r[i])\n",
    "\n",
    "\n",
    "print(\"# dates and venues: \", len(date))\n",
    "print(\"# film titles: \",len(film_title))\n",
    "print(\"# categories: \",len(category)) \n",
    "print(\"# speakers: \",len(speakers))\n",
    "print(\"# years:\", len(year)) \n",
    "print(\"# winners:\", len(winner))\n",
    "print(\"# presenters: \", len(presenter))\n",
    "\n"
   ]
  },
  {
   "cell_type": "code",
   "execution_count": 41,
   "id": "8364a74b",
   "metadata": {},
   "outputs": [],
   "source": [
    "years = []\n",
    "for item in year:\n",
    "    for subitem in item.split():\n",
    "        if(subitem.isdigit()):\n",
    "            years.append(subitem)"
   ]
  },
  {
   "cell_type": "code",
   "execution_count": 42,
   "id": "ba410c16",
   "metadata": {},
   "outputs": [
    {
     "data": {
      "text/plain": [
       "['1939',\n",
       " '1941',\n",
       " '1942',\n",
       " '1943',\n",
       " '1946',\n",
       " '1947',\n",
       " '1949',\n",
       " '1950',\n",
       " '1951',\n",
       " '1952']"
      ]
     },
     "execution_count": 42,
     "metadata": {},
     "output_type": "execute_result"
    }
   ],
   "source": [
    "list(sorted((set(years))))[:10]"
   ]
  },
  {
   "cell_type": "markdown",
   "id": "fade6549",
   "metadata": {},
   "source": [
    "The lists have different lengths so cannot be put into a dataframe. The reason for that is probably in some cases there were more than one winner/presenter/speaker...etc. \n",
    "\n",
    "\n",
    "Also the number of film titles is fewer that the actual number of speeches were given. This needs to be investigated more in depth. \n",
    "\n",
    "So we need a slightly different approach. "
   ]
  },
  {
   "cell_type": "code",
   "execution_count": null,
   "id": "6547636c",
   "metadata": {},
   "outputs": [],
   "source": []
  }
 ],
 "metadata": {
  "kernelspec": {
   "display_name": "Python 3 (ipykernel)",
   "language": "python",
   "name": "python3"
  },
  "language_info": {
   "codemirror_mode": {
    "name": "ipython",
    "version": 3
   },
   "file_extension": ".py",
   "mimetype": "text/x-python",
   "name": "python",
   "nbconvert_exporter": "python",
   "pygments_lexer": "ipython3",
   "version": "3.8.8"
  }
 },
 "nbformat": 4,
 "nbformat_minor": 5
}
